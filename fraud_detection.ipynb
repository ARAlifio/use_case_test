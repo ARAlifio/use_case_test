{
  "cells": [
    {
      "cell_type": "code",
      "execution_count": null,
      "metadata": {
        "colab": {
          "base_uri": "https://localhost:8080/"
        },
        "id": "9OXYPnylezht",
        "outputId": "08175cea-d846-413d-e236-8fc02e96e179"
      },
      "outputs": [
        {
          "name": "stdout",
          "output_type": "stream",
          "text": [
            "Drive already mounted at /content/drive; to attempt to forcibly remount, call drive.mount(\"/content/drive\", force_remount=True).\n"
          ]
        }
      ],
      "source": [
        "from google.colab import drive\n",
        "drive.mount('/content/drive')"
      ]
    },
    {
      "cell_type": "code",
      "execution_count": null,
      "metadata": {
        "colab": {
          "base_uri": "https://localhost:8080/"
        },
        "id": "N4SKBaKqfI1s",
        "outputId": "defe5c00-9cf5-40b7-da76-18069415f8b4"
      },
      "outputs": [
        {
          "name": "stderr",
          "output_type": "stream",
          "text": [
            "/usr/local/lib/python3.10/dist-packages/dask/dataframe/__init__.py:42: FutureWarning: \n",
            "Dask dataframe query planning is disabled because dask-expr is not installed.\n",
            "\n",
            "You can install it with `pip install dask[dataframe]` or `conda install dask`.\n",
            "This will raise in a future version.\n",
            "\n",
            "  warnings.warn(msg, FutureWarning)\n"
          ]
        }
      ],
      "source": [
        "import pandas as pd\n",
        "import numpy as np\n",
        "from sklearn.model_selection import train_test_split\n",
        "from sklearn.preprocessing import LabelEncoder\n",
        "import lightgbm as lgb\n",
        "import gc"
      ]
    },
    {
      "cell_type": "code",
      "execution_count": null,
      "metadata": {
        "id": "alYXXYOLfYrh"
      },
      "outputs": [],
      "source": [
        "train_transaction = pd.read_csv('/content/drive/MyDrive/Colab/Fraud Detection (1)/train_transaction.csv')\n",
        "train_identity = pd.read_csv('/content/drive/MyDrive/Colab/Fraud Detection (1)/train_identity.csv')\n",
        "test_transaction = pd.read_csv('/content/drive/MyDrive/Colab/Fraud Detection (1)/test_transaction.csv')\n",
        "test_identity = pd.read_csv('/content/drive/MyDrive/Colab/Fraud Detection (1)/test_identity.csv')"
      ]
    },
    {
      "cell_type": "code",
      "execution_count": null,
      "metadata": {
        "colab": {
          "base_uri": "https://localhost:8080/"
        },
        "id": "dXZ3Tp59fleB",
        "outputId": "8a6303e4-5d89-4a86-ade3-c3c81c66cffa"
      },
      "outputs": [
        {
          "data": {
            "text/plain": [
              "178"
            ]
          },
          "execution_count": 17,
          "metadata": {},
          "output_type": "execute_result"
        }
      ],
      "source": [
        "train_df = pd.merge(train_transaction, train_identity, on='TransactionID', how='left')\n",
        "test_df = pd.merge(test_transaction, test_identity, on='TransactionID', how='left')\n",
        "\n",
        "del train_transaction\n",
        "del train_identity\n",
        "del test_transaction\n",
        "del test_identity\n",
        "gc.collect()"
      ]
    },
    {
      "cell_type": "code",
      "execution_count": null,
      "metadata": {
        "id": "BBPU2Xy5PdiM"
      },
      "outputs": [],
      "source": [
        "train_df.head()"
      ]
    },
    {
      "cell_type": "code",
      "execution_count": null,
      "metadata": {
        "id": "UmJLW7dRfpJ2"
      },
      "outputs": [],
      "source": [
        "# day & hour\n",
        "train_df['Transaction_day'] = train_df['TransactionDT'] // (24 * 60 * 60)\n",
        "train_df['Transaction_hour'] = (train_df['TransactionDT'] // (60 * 60)) % 24\n",
        "test_df['Transaction_day'] = test_df['TransactionDT'] // (24 * 60 * 60)\n",
        "test_df['Transaction_hour'] = (test_df['TransactionDT'] // (60 * 60)) % 24\n",
        "\n",
        "# domain\n",
        "train_df['P_emaildomain'] = train_df['P_emaildomain'].str.split('.').str[-1]\n",
        "train_df['R_emaildomain'] = train_df['R_emaildomain'].str.split('.').str[-1]\n",
        "test_df['P_emaildomain'] = test_df['P_emaildomain'].str.split('.').str[-1]\n",
        "test_df['R_emaildomain'] = test_df['R_emaildomain'].str.split('.').str[-1]"
      ]
    },
    {
      "cell_type": "code",
      "execution_count": null,
      "metadata": {
        "id": "XNWT2NLsfvTg"
      },
      "outputs": [],
      "source": [
        "train_df.fillna(-999, inplace=True)\n",
        "test_df.fillna(-999, inplace=True)"
      ]
    },
    {
      "cell_type": "code",
      "execution_count": null,
      "metadata": {
        "colab": {
          "base_uri": "https://localhost:8080/"
        },
        "id": "_Ffk_2EJfWTr",
        "outputId": "4a03cce3-3cbf-4c33-94d6-362e03677663"
      },
      "outputs": [
        {
          "data": {
            "text/plain": [
              "35"
            ]
          },
          "execution_count": 7,
          "metadata": {},
          "output_type": "execute_result"
        }
      ],
      "source": [
        "cat_cols = ['ProductCD', 'DeviceType', 'DeviceInfo', 'P_emaildomain', 'R_emaildomain'] + [f'card{i}' for i in range(1, 7)]\n",
        "\n",
        "# Label encoding for categorical columns\n",
        "for col in cat_cols:\n",
        "    le = LabelEncoder()\n",
        "\n",
        "    all_values = pd.concat([train_df[col], test_df[col]]).astype(str).unique()\n",
        "    le.fit(all_values)\n",
        "\n",
        "    train_df[col] = le.transform(train_df[col].astype(str))\n",
        "\n",
        "del le\n",
        "gc.collect()"
      ]
    },
    {
      "cell_type": "code",
      "execution_count": null,
      "metadata": {
        "colab": {
          "base_uri": "https://localhost:8080/"
        },
        "id": "sSR7kx-MGxr2",
        "outputId": "1d65acd8-ee26-4906-f06c-7df5375457aa"
      },
      "outputs": [
        {
          "data": {
            "text/plain": [
              "0"
            ]
          },
          "execution_count": 8,
          "metadata": {},
          "output_type": "execute_result"
        }
      ],
      "source": [
        "# Drop non features\n",
        "X = train_df.drop(['isFraud', 'TransactionID'], axis=1)\n",
        "y = train_df['isFraud']\n",
        "\n",
        "del train_df\n",
        "\n",
        "X_test = test_df.drop(['TransactionID'], axis=1)\n",
        "\n",
        "common_cols = list(set(X.columns) & set(X_test.columns))\n",
        "\n",
        "X = X[common_cols]\n",
        "X_test = X_test[common_cols]\n",
        "\n",
        "object_cols = X.select_dtypes(include=['object']).columns.tolist()\n",
        "for col in object_cols:\n",
        "    X[col] = pd.to_numeric(X[col], errors='coerce')\n",
        "    X_test[col] = pd.to_numeric(X_test[col], errors='coerce')\n",
        "\n",
        "X.fillna(-999, inplace=True)\n",
        "X_test.fillna(-999, inplace=True)\n",
        "\n",
        "X_train, X_val, y_train, y_val = train_test_split(X, y, test_size=0.2, random_state=42)\n",
        "\n",
        "cat_cols = X.select_dtypes(include=['category', 'object']).columns.tolist()\n",
        "\n",
        "del X\n",
        "del y\n",
        "\n",
        "gc.collect()"
      ]
    },
    {
      "cell_type": "code",
      "execution_count": null,
      "metadata": {
        "colab": {
          "base_uri": "https://localhost:8080/"
        },
        "id": "rPju3esONuBa",
        "outputId": "956977da-f510-45ac-b392-a07c80f1354d"
      },
      "outputs": [
        {
          "data": {
            "text/plain": [
              "0"
            ]
          },
          "execution_count": 9,
          "metadata": {},
          "output_type": "execute_result"
        }
      ],
      "source": [
        "train_data = lgb.Dataset(X_train, label=y_train, free_raw_data=True)\n",
        "val_data = lgb.Dataset(X_val, label=y_val, reference=train_data, free_raw_data=True)\n",
        "\n",
        "del X_train\n",
        "del X_val\n",
        "gc.collect()"
      ]
    },
    {
      "cell_type": "code",
      "execution_count": null,
      "metadata": {
        "id": "HR8PcPPz0oEJ"
      },
      "outputs": [],
      "source": [
        "params = {\n",
        "    'objective': 'binary',\n",
        "    'boosting_type': 'gbdt',\n",
        "    'metric': 'auc',\n",
        "    'is_unbalance': True,\n",
        "    'learning_rate': 0.05,\n",
        "    'num_leaves': 31,\n",
        "    'device': 'cpu'\n",
        "}\n",
        "\n",
        "lgb_model = lgb.train(\n",
        "    params,\n",
        "    train_data,\n",
        "    valid_sets=[train_data, val_data],\n",
        "    num_boost_round=1000,\n",
        "    categorical_feature=cat_cols\n",
        ")"
      ]
    },
    {
      "cell_type": "code",
      "execution_count": null,
      "metadata": {
        "id": "R851z_rBSF0l"
      },
      "outputs": [],
      "source": [
        "# Predictions\n",
        "for col in X_test.select_dtypes(include=['object']).columns:\n",
        "    X_test[col] = pd.to_numeric(X_test[col], errors='coerce')\n",
        "    # Replace inf and -inf with large values before filling NaN\n",
        "    X_test[col] = X_test[col].replace([np.inf, -np.inf], 999999)\n",
        "    # Fill NaN and convert to int\n",
        "    X_test[col] = X_test[col].fillna(-999).astype(int)\n",
        "\n",
        "test_predictions = lgb_model.predict(X_test, num_iteration=lgb_model.best_iteration)"
      ]
    },
    {
      "cell_type": "code",
      "execution_count": null,
      "metadata": {
        "colab": {
          "base_uri": "https://localhost:8080/"
        },
        "id": "_1yMKcv0Ud_v",
        "outputId": "2d1a51f1-1f51-4ed0-a20d-778810432cc6"
      },
      "outputs": [],
      "source": [
        "submission = pd.DataFrame({\n",
        "    'TransactionID': test_df['TransactionID'],\n",
        "    'isFraud': test_predictions\n",
        "})\n",
        "\n",
        "submission.to_csv('submission.csv', index=False)"
      ]
    }
  ],
  "metadata": {
    "colab": {
      "provenance": []
    },
    "kernelspec": {
      "display_name": "Python 3",
      "name": "python3"
    },
    "language_info": {
      "name": "python"
    }
  },
  "nbformat": 4,
  "nbformat_minor": 0
}
